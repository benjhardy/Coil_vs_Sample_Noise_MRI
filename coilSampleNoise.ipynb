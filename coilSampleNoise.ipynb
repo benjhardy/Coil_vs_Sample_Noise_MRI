{
 "cells": [
  {
   "cell_type": "code",
   "execution_count": null,
   "metadata": {},
   "outputs": [],
   "source": [
    "# 12-18-2022\n",
    "# benjamin m hardy\n",
    "# some key references:\n",
    "\n",
    "# great intro reference is Noise in MRI - Al macovski\n",
    "# https://pubmed.ncbi.nlm.nih.gov/8875425/\n",
    "# another more recent interesting take:\n",
    "# https://ieeexplore.ieee.org/document/5910383\n",
    "\n",
    "# great description of Q-relationship:\n",
    "# https://pubmed.ncbi.nlm.nih.gov/10680678/\n",
    "# would be good to improve on this paper's assumptions and to show it experimentally.\n",
    "\n",
    "# Overall great reference is Darasse and Ginefri\n",
    "# https://pubmed.ncbi.nlm.nih.gov/14652180/\n",
    "\n",
    "# key question: How does temperature, coil size, conductivity of sample, influence noise contributions\n",
    "# figure 4 in Darasse and Ginefri is the experimental demonstration we would want to show.\n",
    "\n"
   ]
  }
 ],
 "metadata": {
  "language_info": {
   "name": "python"
  },
  "orig_nbformat": 4
 },
 "nbformat": 4,
 "nbformat_minor": 2
}
