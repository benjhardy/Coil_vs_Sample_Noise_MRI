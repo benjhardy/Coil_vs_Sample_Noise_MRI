{
 "cells": [
  {
   "cell_type": "code",
   "execution_count": null,
   "metadata": {},
   "outputs": [],
   "source": [
    "# 12-18-2022\n",
    "# benjamin m hardy\n",
    "# Purpose: demonstrate relationships dictating relative noise contributions from \n",
    "# some key references:\n",
    "\n",
    "# great intro reference is Noise in MRI - Al macovski\n",
    "# [1] https://pubmed.ncbi.nlm.nih.gov/8875425/\n",
    "# another more recent interesting take:\n",
    "# [2] https://ieeexplore.ieee.org/document/5910383\n",
    "\n",
    "# great description of Q-relationship:\n",
    "# [3] https://pubmed.ncbi.nlm.nih.gov/10680678/\n",
    "# would be good to improve on this paper's assumptions and to show it experimentally.\n",
    "\n",
    "# Overall great reference is Darasse and Ginefri\n",
    "# [4] https://pubmed.ncbi.nlm.nih.gov/14652180/\n",
    "\n",
    "# key question: How does temperature, coil size, conductivity of sample, influence noise contributions\n",
    "# figure 4 in Darasse and Ginefri is the experimental demonstration we would want to show.\n"
   ]
  },
  {
   "cell_type": "code",
   "execution_count": null,
   "metadata": {},
   "outputs": [],
   "source": [
    "# imports:\n",
    "from math import pi\n",
    "import numpy\n",
    "import matplotlib.pyplot as plt\n"
   ]
  },
  {
   "cell_type": "code",
   "execution_count": null,
   "metadata": {},
   "outputs": [],
   "source": [
    "# figure 1: \n",
    "# sample resistance and coil resistance vs coil size\n",
    "# for a uniform sphere (eq. 6 in ref [4], also hoult and Richards)\n",
    "#\n",
    "b = .005 # sample radius\n",
    "sigma = .66 # conductivity of sample, S/m\n",
    "omega = 2*pi*650e6 # resonance frequency, 650 MHz\n",
    "cc = 1 # coupling coefficient (B1/Ic) B1 over the current in coil\n",
    "rs = 2*pi*sigma*omega**2 *cc**2 * b**5\n",
    " "
   ]
  },
  {
   "cell_type": "code",
   "execution_count": null,
   "metadata": {},
   "outputs": [],
   "source": [
    "# figure 2:\n",
    "# temperature of coil and conductivity of sample"
   ]
  }
 ],
 "metadata": {
  "language_info": {
   "name": "python"
  },
  "orig_nbformat": 4
 },
 "nbformat": 4,
 "nbformat_minor": 2
}
